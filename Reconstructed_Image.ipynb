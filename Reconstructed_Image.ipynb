{
  "nbformat": 4,
  "nbformat_minor": 0,
  "metadata": {
    "kernelspec": {
      "display_name": "Python 3",
      "language": "python",
      "name": "python3"
    },
    "language_info": {
      "codemirror_mode": {
        "name": "ipython",
        "version": 3
      },
      "file_extension": ".py",
      "mimetype": "text/x-python",
      "name": "python",
      "nbconvert_exporter": "python",
      "pygments_lexer": "ipython3",
      "version": "3.6.4"
    },
    "colab": {
      "name": "Reconstructed-Image.ipynb",
      "version": "0.3.2",
      "provenance": [],
      "collapsed_sections": [
        "h3SgTnZ1NEWS"
      ]
    }
  },
  "cells": [
    {
      "cell_type": "code",
      "metadata": {
        "id": "br2TIPpVNEVG",
        "colab_type": "code",
        "colab": {}
      },
      "source": [
        ""
      ],
      "execution_count": 0,
      "outputs": []
    },
    {
      "cell_type": "code",
      "metadata": {
        "id": "NRQcCYXkNEVJ",
        "colab_type": "code",
        "colab": {}
      },
      "source": [
        "from __future__ import division, print_function\n",
        "from builtins import range\n",
        "\n",
        "%matplotlib inline\n",
        "import autograd.numpy as np\n",
        "from autograd import grad\n",
        "np.random.seed(123)\n",
        "import time as time\n",
        "import matplotlib.pyplot as plt\n",
        "import pandas as pd\n",
        "import os as os\n",
        "from PIL import Image  \n",
        "\n",
        "\n"
      ],
      "execution_count": 0,
      "outputs": []
    },
    {
      "cell_type": "code",
      "metadata": {
        "id": "u8ex8kqBNEVM",
        "colab_type": "code",
        "colab": {}
      },
      "source": [
        ""
      ],
      "execution_count": 0,
      "outputs": []
    },
    {
      "cell_type": "markdown",
      "metadata": {
        "id": "ml_wivozNEVO",
        "colab_type": "text"
      },
      "source": [
        "<h1><center>Exercise 1: Film Recommendation</center></h1>"
      ]
    },
    {
      "cell_type": "markdown",
      "metadata": {
        "id": "CWIQFAiLNEVP",
        "colab_type": "text"
      },
      "source": [
        "### Data Dowload\n",
        "Download the \"rating_matrix.npy\" on the IVLE. This file contains the $13$ millions of film ratings.\n"
      ]
    },
    {
      "cell_type": "code",
      "metadata": {
        "id": "GYeSVcKpNEVP",
        "colab_type": "code",
        "colab": {}
      },
      "source": [
        "path = \"/Users/apple/Downloads/netflix-prize-data\"\n",
        "data_netflix = np.load(os.path.join(path, \"rating_matrix.npy\"))\n"
      ],
      "execution_count": 0,
      "outputs": []
    },
    {
      "cell_type": "code",
      "metadata": {
        "id": "jhxEPrpMNEVT",
        "colab_type": "code",
        "colab": {}
      },
      "source": [
        ""
      ],
      "execution_count": 0,
      "outputs": []
    },
    {
      "cell_type": "code",
      "metadata": {
        "id": "gI_y0F4NNEVV",
        "colab_type": "code",
        "colab": {}
      },
      "source": [
        ""
      ],
      "execution_count": 0,
      "outputs": []
    },
    {
      "cell_type": "code",
      "metadata": {
        "id": "fPYRKSpYNEVY",
        "colab_type": "code",
        "outputId": "3652dca6-debf-4746-bdfc-dee5b0982826",
        "colab": {}
      },
      "source": [
        "#first colum: USER_ID\n",
        "#second colum: FILM_ID\n",
        "#third colum: RATING_ID\n",
        "\n",
        "print(\"USER_ID \\t FILM_ID \\t RATING\")\n",
        "print(data_netflix[:10])"
      ],
      "execution_count": 0,
      "outputs": [
        {
          "output_type": "stream",
          "text": [
            "USER_ID \t FILM_ID \t RATING\n",
            "[[56210   138     3]\n",
            " [52985   120     3]\n",
            " [23195    64     4]\n",
            " [50206  1277     4]\n",
            " [29840   130     3]\n",
            " [59551    54     1]\n",
            " [66413    37     3]\n",
            " [32666    98     3]\n",
            " [69911     6     5]\n",
            " [28913    41     4]]\n"
          ],
          "name": "stdout"
        }
      ]
    },
    {
      "cell_type": "code",
      "metadata": {
        "id": "MgPBdxJ6NEVc",
        "colab_type": "code",
        "colab": {}
      },
      "source": [
        ""
      ],
      "execution_count": 0,
      "outputs": []
    },
    {
      "cell_type": "code",
      "metadata": {
        "id": "3r4JCd2bNEVe",
        "colab_type": "code",
        "outputId": "9bd3b5aa-17f4-49f7-a6da-8f18d87c443c",
        "colab": {}
      },
      "source": [
        "n_users = len(np.unique(data_netflix[:,0]))\n",
        "n_films = len(np.unique(data_netflix[:,1]))\n",
        "n_ratings = len(data_netflix)\n",
        "print(\"Total Number of Ratings = \", n_ratings)\n",
        "print(\"Total Number of Users = \", n_users)\n",
        "print(\"Total Number of Films = \", n_films)\n"
      ],
      "execution_count": 0,
      "outputs": [
        {
          "output_type": "stream",
          "text": [
            "Total Number of Ratings =  13119291\n",
            "Total Number of Users =  70775\n",
            "Total Number of Films =  3314\n"
          ],
          "name": "stdout"
        }
      ]
    },
    {
      "cell_type": "code",
      "metadata": {
        "id": "b3JTuxyZNEVi",
        "colab_type": "code",
        "colab": {}
      },
      "source": [
        ""
      ],
      "execution_count": 0,
      "outputs": []
    },
    {
      "cell_type": "code",
      "metadata": {
        "id": "neyCWr8DNEVk",
        "colab_type": "code",
        "outputId": "e7a304d0-e614-4ed4-ed09-3dcc1e9ac152",
        "colab": {}
      },
      "source": [
        "H = plt.hist(data_netflix[:,2], density=True)\n",
        "plt.title(\"Ratings\")\n",
        "plt.ylabel(\"Proba\")"
      ],
      "execution_count": 0,
      "outputs": [
        {
          "output_type": "execute_result",
          "data": {
            "text/plain": [
              "Text(0,0.5,'Proba')"
            ]
          },
          "metadata": {
            "tags": []
          },
          "execution_count": 6
        },
        {
          "output_type": "display_data",
          "data": {
            "image/png": "[encoded data removed]",
            "text/plain": [
              "<matplotlib.figure.Figure at 0x10bb0f940>"
            ]
          },
          "metadata": {
            "tags": []
          }
        }
      ]
    },
    {
      "cell_type": "code",
      "metadata": {
        "id": "-NJEgyLiNEVn",
        "colab_type": "code",
        "colab": {}
      },
      "source": [
        ""
      ],
      "execution_count": 0,
      "outputs": []
    },
    {
      "cell_type": "code",
      "metadata": {
        "id": "-aDpOBJBNEVr",
        "colab_type": "code",
        "colab": {}
      },
      "source": [
        "#compute the number of ratings of each user\n",
        "nb_rating_per_user = np.zeros(n_users)\n",
        "nb_rating_per_film = np.zeros(n_films)\n",
        "for k in range(n_ratings):\n",
        "    user = data_netflix[k,0]\n",
        "    film = data_netflix[k,1]\n",
        "    nb_rating_per_user[user] += 1\n",
        "    nb_rating_per_film[film] += 1"
      ],
      "execution_count": 0,
      "outputs": []
    },
    {
      "cell_type": "code",
      "metadata": {
        "id": "wxP4Ck4SNEVt",
        "colab_type": "code",
        "colab": {}
      },
      "source": [
        ""
      ],
      "execution_count": 0,
      "outputs": []
    },
    {
      "cell_type": "code",
      "metadata": {
        "id": "TIirIA1FNEVw",
        "colab_type": "code",
        "outputId": "7a855bd7-def1-4ec4-f339-ae747ffc3ce0",
        "colab": {}
      },
      "source": [
        "plt.rcParams['figure.figsize'] = (10,3)\n",
        "\n",
        "plt.subplot(1,2,1)\n",
        "H = plt.hist(np.log10(nb_rating_per_user), bins=50, density=True)\n",
        "plt.xlabel(r\"$\\log_{10}$(Ratings)\")\n",
        "plt.title(\"Number Ratings per User\")\n",
        "\n",
        "plt.subplot(1,2,2)\n",
        "H = plt.hist(np.log10(nb_rating_per_film), bins=50, density=True)\n",
        "plt.xlabel(r\"$\\log_{10}$(Ratings)\")\n",
        "plt.title(\"Number Ratings per Film\")\n"
      ],
      "execution_count": 0,
      "outputs": [
        {
          "output_type": "execute_result",
          "data": {
            "text/plain": [
              "Text(0.5,1,'Number Ratings per Film')"
            ]
          },
          "metadata": {
            "tags": []
          },
          "execution_count": 8
        },
        {
          "output_type": "display_data",
          "data": {
            "image/png": "[encoded data removed]",
            "text/plain": [
              "<matplotlib.figure.Figure at 0x132c9d3c8>"
            ]
          },
          "metadata": {
            "tags": []
          }
        }
      ]
    },
    {
      "cell_type": "code",
      "metadata": {
        "id": "JGL42iyuNEVz",
        "colab_type": "code",
        "colab": {}
      },
      "source": [
        ""
      ],
      "execution_count": 0,
      "outputs": []
    },
    {
      "cell_type": "code",
      "metadata": {
        "id": "Cop6nwrWNEV2",
        "colab_type": "code",
        "colab": {}
      },
      "source": [
        "#split train / test data\n",
        "n_train = int(n_ratings * 0.7)\n",
        "data_train = data_netflix[:n_train,:]\n",
        "data_test = data_netflix[n_train:,:]\n"
      ],
      "execution_count": 0,
      "outputs": []
    },
    {
      "cell_type": "code",
      "metadata": {
        "id": "93WZOenGNEV4",
        "colab_type": "code",
        "colab": {}
      },
      "source": [
        ""
      ],
      "execution_count": 0,
      "outputs": []
    },
    {
      "cell_type": "markdown",
      "metadata": {
        "id": "Pns_xjkyNEV8",
        "colab_type": "text"
      },
      "source": [
        "First column is the userId, the second column is the movieId, and the third column is the rating. Your task is to develop an algorithm that can predict the rating of a given user for a given film. You will train your algorithm on the training set \"data_train\" and test performances on the test set contained in \"data_test\"."
      ]
    },
    {
      "cell_type": "code",
      "metadata": {
        "id": "QXfMmnmVNEV-",
        "colab_type": "code",
        "colab": {}
      },
      "source": [
        "def RMSE_predictions(true_ratings, predictions):\n",
        "    return np.sqrt(np.mean( (true_ratings - predictions)**2 ))"
      ],
      "execution_count": 0,
      "outputs": []
    },
    {
      "cell_type": "code",
      "metadata": {
        "id": "g1BlCQF0NEWC",
        "colab_type": "code",
        "colab": {}
      },
      "source": [
        ""
      ],
      "execution_count": 0,
      "outputs": []
    },
    {
      "cell_type": "markdown",
      "metadata": {
        "id": "rTzlku1qNEWE",
        "colab_type": "text"
      },
      "source": [
        "Let us first look at the performaces of the most naive and useless prediction: a random prediction."
      ]
    },
    {
      "cell_type": "code",
      "metadata": {
        "id": "lCNTFgtrNEWF",
        "colab_type": "code",
        "outputId": "e4a02e2b-5098-4616-9e34-591bc031e474",
        "colab": {}
      },
      "source": [
        "random_predictions = 1+np.random.random(size=len(data_test))\n",
        "RMSE_random_predictions =  RMSE_predictions(data_test[:,2], random_predictions)\n",
        "print(\"RMSE of random predictions = \", RMSE_random_predictions)"
      ],
      "execution_count": 0,
      "outputs": [
        {
          "output_type": "stream",
          "text": [
            "RMSE of random predictions =  2.3166966740325363\n"
          ],
          "name": "stdout"
        }
      ]
    },
    {
      "cell_type": "code",
      "metadata": {
        "id": "-LtmCn47NEWK",
        "colab_type": "code",
        "colab": {}
      },
      "source": [
        ""
      ],
      "execution_count": 0,
      "outputs": []
    },
    {
      "cell_type": "markdown",
      "metadata": {
        "id": "NKJgB04JNEWM",
        "colab_type": "text"
      },
      "source": [
        "Let us now look at the performaces of a slightly less naive and but as useless prediction: the global average."
      ]
    },
    {
      "cell_type": "code",
      "metadata": {
        "id": "AYrO7dTTNEWN",
        "colab_type": "code",
        "outputId": "2349affa-9367-4c61-dab3-e85cc12d2e43",
        "colab": {}
      },
      "source": [
        "global_average = np.zeros(len(data_test)) + np.mean(data_train[:,2])\n",
        "RMSE_global_average =  RMSE_predictions(data_test[:,2], global_average)\n",
        "print(\"RMSE of global_average predictions = \", RMSE_global_average)"
      ],
      "execution_count": 0,
      "outputs": [
        {
          "output_type": "stream",
          "text": [
            "RMSE of global_average predictions =  1.0722443896110023\n"
          ],
          "name": "stdout"
        }
      ]
    },
    {
      "cell_type": "code",
      "metadata": {
        "id": "ytkIbO0PNEWQ",
        "colab_type": "code",
        "colab": {}
      },
      "source": [
        ""
      ],
      "execution_count": 0,
      "outputs": []
    },
    {
      "cell_type": "markdown",
      "metadata": {
        "id": "h3SgTnZ1NEWS",
        "colab_type": "text"
      },
      "source": [
        "### Task:\n",
        "Use the ideas introduced in chapter \"Matrix Completion\" to build a recommendation system that can predict the ratings of the data contained in \"data_test\". You can only use the data contained in \"data_train\" to fit your model. Report the RMSE of your predictions on the test-set."
      ]
    },
    {
      "cell_type": "code",
      "metadata": {
        "id": "uyk1MNGWNEWT",
        "colab_type": "code",
        "colab": {}
      },
      "source": [
        "def Train_Dict(data_train, Type):\n",
        "    ### Input: \n",
        "    ### Type = 1: Movie Mean; \n",
        "    ### Type = 0: User mean\n",
        "    \n",
        "    movie_user_train = data_train[:,Type]\n",
        "    uniq_movie_user_train = np.unique(movie_user_train)\n",
        "    rating_train = data_train[:,2]\n",
        "    mean_dict = dict()\n",
        "    \n",
        "    for movie_user in uniq_movie_user_train:\n",
        "        idx_movie_user = (movie_user_train == movie_user)\n",
        "        selected = rating_train[idx_movie_user]\n",
        "        mean_dict[movie_user] = [np.mean(selected), len(selected)]\n",
        "    \n",
        "    return mean_dict\n",
        "\n",
        "def movie_user_avg(alpha, data_train, data_test, Type):\n",
        "    mean_dict = Train_Dict(data_train, Type)\n",
        "\n",
        "    # initialize with global mean\n",
        "    rating_train = data_train[:,2]\n",
        "    global_average = np.mean(rating_train)\n",
        "    movie_user_average = np.zeros(len(data_test)) + global_average\n",
        "    \n",
        "    for i in range(len(data_test)):\n",
        "        line = data_test[i,:]\n",
        "        movie_user = line[Type]\n",
        "        if movie_user in mean_dict:\n",
        "            avg = mean_dict[movie_user][0]\n",
        "            num_of_movie_user = mean_dict[movie_user][1]\n",
        "            movie_user_average[i] = (alpha*global_average + num_of_movie_user*avg)\\\n",
        "                                /(alpha + num_of_movie_user)\n",
        "    return movie_user_average\n"
      ],
      "execution_count": 0,
      "outputs": []
    },
    {
      "cell_type": "code",
      "metadata": {
        "id": "bEwUAlwHNEWU",
        "colab_type": "code",
        "colab": {}
      },
      "source": [
        ""
      ],
      "execution_count": 0,
      "outputs": []
    },
    {
      "cell_type": "code",
      "metadata": {
        "id": "twapbelQNEWW",
        "colab_type": "code",
        "colab": {}
      },
      "source": [
        "def loss_movie(alpha = 0):\n",
        "    movie_average = movie_user_avg(alpha, data_train, data_test, 1)\n",
        "    rating_test = data_test[:,2]\n",
        "    return RMSE_predictions(rating_test, movie_average)\n",
        "\n",
        "def loss_user(alpha = 0):\n",
        "    user_average = movie_user_avg(alpha, data_train, data_test, 0)\n",
        "    rating_test = data_test[:,2]\n",
        "    return RMSE_predictions(rating_test, user_average)"
      ],
      "execution_count": 0,
      "outputs": []
    },
    {
      "cell_type": "code",
      "metadata": {
        "id": "NEzMW-pgNEWY",
        "colab_type": "code",
        "colab": {}
      },
      "source": [
        ""
      ],
      "execution_count": 0,
      "outputs": []
    },
    {
      "cell_type": "code",
      "metadata": {
        "id": "ogeVA2u8NEWa",
        "colab_type": "code",
        "outputId": "c03e2e63-95b6-40a2-a5a8-effa91b88ded",
        "colab": {}
      },
      "source": [
        "RMSE_movie_average =  loss_movie()\n",
        "print(\"RMSE of movie_avg predictions = \", RMSE_movie_average)"
      ],
      "execution_count": 0,
      "outputs": [
        {
          "output_type": "stream",
          "text": [
            "RMSE of movie_avg predictions =  0.9996226386647296\n"
          ],
          "name": "stdout"
        }
      ]
    },
    {
      "cell_type": "markdown",
      "metadata": {
        "id": "xBVKFRrzNEWe",
        "colab_type": "text"
      },
      "source": [
        "Use the BFGS Algorithm directly to approximate the ratings.\n",
        "and using the test dataset to get the RMSE."
      ]
    },
    {
      "cell_type": "code",
      "metadata": {
        "id": "oatMsr-LNEWf",
        "colab_type": "code",
        "outputId": "b2cf179d-f263-429d-f1cf-562dabcf3160",
        "colab": {}
      },
      "source": [
        "n_users = len(np.unique(data_train[:,0]))\n",
        "n_films = len(np.unique(data_train[:,1]))\n",
        "n_ratings = len(data_train)\n",
        "print(n_users)\n",
        "\n",
        "'''\n",
        "user_agg = np.zeros(n_users)\n",
        "user_num = np.zeros(n_users)\n",
        "user_mean = np.zeros(n_users)\n",
        "for k in range(n_ratings):\n",
        "    user = data_train[k,0]\n",
        "    film = data_train[k,1]\n",
        "    rating = data_train[k,2]\n",
        "    user_agg[user] +=rating\n",
        "    user_num[user] +=1\n",
        "for i in range(n_users):\n",
        "  user_mean[i] = user_agg[i]/user_num[i]\n",
        "'''"
      ],
      "execution_count": 0,
      "outputs": [
        {
          "output_type": "stream",
          "text": [
            "70775\n"
          ],
          "name": "stdout"
        },
        {
          "output_type": "execute_result",
          "data": {
            "text/plain": [
              "'\\nuser_agg = np.zeros(n_users)\\nuser_num = np.zeros(n_users)\\nuser_mean = np.zeros(n_users)\\nfor k in range(n_ratings):\\n    user = data_train[k,0]\\n    film = data_train[k,1]\\n    rating = data_train[k,2]\\n    user_agg[user] +=rating\\n    user_num[user] +=1\\nfor i in range(n_users):\\n  user_mean[i] = user_agg[i]/user_num[i]\\n'"
            ]
          },
          "metadata": {
            "tags": []
          },
          "execution_count": 19
        }
      ]
    },
    {
      "cell_type": "code",
      "metadata": {
        "id": "ZzUsfIrJNEWi",
        "colab_type": "code",
        "colab": {}
      },
      "source": [
        ""
      ],
      "execution_count": 0,
      "outputs": []
    },
    {
      "cell_type": "code",
      "metadata": {
        "id": "1KWN25E6NEWj",
        "colab_type": "code",
        "colab": {}
      },
      "source": [
        "# we first define the naive recommendation matrix\n",
        "def construct_naive_rating_matrix():\n",
        "  ret = np.zeros((n_users, n_films))\n",
        "  for k in range(n_ratings):\n",
        "    user = data_train[k,0]\n",
        "    film = data_train[k,1]\n",
        "    rating = data_train[k,2]\n",
        "    ret[user][film] = rating\n",
        "  return ret\n",
        "\n",
        "m_naive = construct_naive_rating_matrix()\n"
      ],
      "execution_count": 0,
      "outputs": []
    },
    {
      "cell_type": "code",
      "metadata": {
        "id": "1uaKP7YYNEWl",
        "colab_type": "code",
        "outputId": "4bdd3de6-7340-4d36-d07e-681262718e2d",
        "colab": {}
      },
      "source": [
        "m_naive.shape"
      ],
      "execution_count": 0,
      "outputs": [
        {
          "output_type": "execute_result",
          "data": {
            "text/plain": [
              "(70775, 3314)"
            ]
          },
          "metadata": {
            "tags": []
          },
          "execution_count": 21
        }
      ]
    },
    {
      "cell_type": "code",
      "metadata": {
        "id": "20qvQKv0NEWo",
        "colab_type": "code",
        "colab": {}
      },
      "source": [
        "def loss(U,F):\n",
        "    print(\"loss completed\") # to check the status of the training process\n",
        "    return np.mean( (m_naive - U @ F)**2 )"
      ],
      "execution_count": 0,
      "outputs": []
    },
    {
      "cell_type": "code",
      "metadata": {
        "id": "YaX-5KQuNEWq",
        "colab_type": "code",
        "colab": {}
      },
      "source": [
        "import scipy.optimize as scipy_optimize\n",
        "#random initial guess \n",
        "\n",
        "p,q = m_naive.shape\n",
        "r = 10  # rank of the approximation\n",
        "U_init = np.random.normal(0,1,size=(p,r))\n",
        "F_init = np.random.normal(0,1,size=(r,q))"
      ],
      "execution_count": 0,
      "outputs": []
    },
    {
      "cell_type": "code",
      "metadata": {
        "id": "id5_WiS9NEWs",
        "colab_type": "code",
        "outputId": "2e7ef21c-457a-4ddc-c4d3-a25475f2298b",
        "colab": {}
      },
      "source": [
        "from tqdm import tqdm\n",
        "\n",
        "n_iter = 20\n",
        "n_ter_BFGS = 10\n",
        "\n",
        "U = np.copy(U_init)\n",
        "F = np.copy(F_init)\n",
        "\n",
        "loss_history = np.zeros(n_iter)\n",
        "\n",
        "for k in tqdm(range(n_iter)):\n",
        "    #update U with BFGS\n",
        "    def L_F_fixed(U_flattenned):\n",
        "        U = U_flattenned.reshape(p,r)\n",
        "        return loss(U,F)\n",
        "    gradient_L_F_fixed = grad(L_F_fixed)\n",
        "    \n",
        "    print(\"test 1\") # to check the training process\n",
        "    \n",
        "    output_BFGS = scipy_optimize.minimize(L_F_fixed,\n",
        "                                          U.flatten(), #initial guess\n",
        "                                          method='L-BFGS-B', \n",
        "                                          jac=gradient_L_F_fixed,\n",
        "                                          tol = 10**-8,\n",
        "                                          options={\"maxiter\":n_ter_BFGS})\n",
        "    U = output_BFGS[\"x\"].reshape(p,r)  #set U to the output of BFGS\n",
        "    \n",
        "    print(\"test 2\")  # to check the training process\n",
        "    \n",
        "    #update F with BFGS\n",
        "    def L_U_fixed(F_flattenned):\n",
        "        F = F_flattenned.reshape(r,q)\n",
        "        return loss(U,F)\n",
        "    gradient_L_U_fixed = grad(L_U_fixed)\n",
        "    output_BFGS = scipy_optimize.minimize(L_U_fixed,\n",
        "                                          F.flatten(), #initial guess\n",
        "                                          method='L-BFGS-B', \n",
        "                                          jac=gradient_L_U_fixed,\n",
        "                                          tol = 10**-8,\n",
        "                                          options={\"maxiter\":n_ter_BFGS})\n",
        "    F = output_BFGS[\"x\"].reshape(r,q)  #set U to the output of BFGS\n",
        "    \n",
        "    #keep track of loss\n",
        "    loss_history[k] = loss(U,F)\n",
        "    print(loss_history[k])"
      ],
      "execution_count": 0,
      "outputs": [
        {
          "output_type": "stream",
          "text": [
            "\r  0%|          | 0/20 [00:00<?, ?it/s]"
          ],
          "name": "stderr"
        },
        {
          "output_type": "stream",
          "text": [
            "test 1\n",
            "loss completed\n",
            "loss completed\n",
            "loss completed\n",
            "loss completed\n",
            "loss completed\n",
            "loss completed\n",
            "loss completed\n",
            "loss completed\n",
            "loss completed\n",
            "loss completed\n",
            "loss completed\n",
            "loss completed\n",
            "loss completed\n",
            "loss completed\n",
            "loss completed\n",
            "loss completed\n",
            "test 2\n",
            "loss completed\n",
            "loss completed\n",
            "loss completed\n",
            "loss completed\n",
            "loss completed\n",
            "loss completed\n",
            "loss completed\n",
            "loss completed\n",
            "loss completed\n",
            "loss completed\n",
            "loss completed\n",
            "loss completed\n",
            "loss completed\n",
            "loss completed\n",
            "loss completed\n",
            "loss completed\n",
            "loss completed\n",
            "loss completed\n",
            "loss completed\n",
            "loss completed\n",
            "loss completed\n"
          ],
          "name": "stdout"
        },
        {
          "output_type": "stream",
          "text": [
            "\r  5%|▌         | 1/20 [20:03<6:20:58, 1203.07s/it]"
          ],
          "name": "stderr"
        },
        {
          "output_type": "stream",
          "text": [
            "0.41826916850699813\n",
            "test 1\n",
            "loss completed\n",
            "loss completed\n",
            "loss completed\n",
            "loss completed\n",
            "loss completed\n",
            "loss completed\n",
            "loss completed\n",
            "loss completed\n",
            "loss completed\n",
            "loss completed\n",
            "loss completed\n",
            "loss completed\n",
            "loss completed\n",
            "loss completed\n",
            "loss completed\n",
            "loss completed\n",
            "loss completed\n",
            "loss completed\n",
            "loss completed\n",
            "loss completed\n",
            "loss completed\n",
            "loss completed\n",
            "loss completed\n",
            "loss completed\n",
            "loss completed\n",
            "loss completed\n",
            "test 2\n",
            "loss completed\n",
            "loss completed\n",
            "loss completed\n",
            "loss completed\n",
            "loss completed\n",
            "loss completed\n",
            "loss completed\n",
            "loss completed\n",
            "loss completed\n",
            "loss completed\n",
            "loss completed\n",
            "loss completed\n",
            "loss completed\n",
            "loss completed\n",
            "loss completed\n",
            "loss completed\n",
            "loss completed\n",
            "loss completed\n",
            "loss completed\n",
            "loss completed\n",
            "loss completed\n",
            "loss completed\n",
            "loss completed\n"
          ],
          "name": "stdout"
        },
        {
          "output_type": "stream",
          "text": [
            "\r 10%|█         | 2/20 [53:56<8:05:25, 1618.07s/it]"
          ],
          "name": "stderr"
        },
        {
          "output_type": "stream",
          "text": [
            "0.3664476513048115\n",
            "test 1\n",
            "loss completed\n",
            "loss completed\n",
            "loss completed\n",
            "loss completed\n",
            "loss completed\n",
            "loss completed\n",
            "loss completed\n",
            "loss completed\n",
            "loss completed\n",
            "loss completed\n",
            "loss completed\n",
            "loss completed\n",
            "loss completed\n",
            "loss completed\n",
            "loss completed\n",
            "loss completed\n",
            "loss completed\n",
            "loss completed\n",
            "loss completed\n",
            "loss completed\n",
            "loss completed\n",
            "loss completed\n",
            "loss completed\n",
            "loss completed\n",
            "loss completed\n",
            "loss completed\n",
            "test 2\n",
            "loss completed\n",
            "loss completed\n",
            "loss completed\n",
            "loss completed\n",
            "loss completed\n",
            "loss completed\n",
            "loss completed\n",
            "loss completed\n",
            "loss completed\n",
            "loss completed\n",
            "loss completed\n",
            "loss completed\n",
            "loss completed\n",
            "loss completed\n",
            "loss completed\n",
            "loss completed\n",
            "loss completed\n",
            "loss completed\n",
            "loss completed\n",
            "loss completed\n",
            "loss completed\n",
            "loss completed\n",
            "loss completed\n"
          ],
          "name": "stdout"
        },
        {
          "output_type": "stream",
          "text": [
            "\r 15%|█▌        | 3/20 [1:18:25<7:24:24, 1568.51s/it]"
          ],
          "name": "stderr"
        },
        {
          "output_type": "stream",
          "text": [
            "0.36033387734449646\n",
            "test 1\n",
            "loss completed\n",
            "loss completed\n",
            "loss completed\n",
            "loss completed\n",
            "loss completed\n",
            "loss completed\n",
            "loss completed\n",
            "loss completed\n",
            "loss completed\n",
            "loss completed\n",
            "loss completed\n",
            "loss completed\n",
            "loss completed\n",
            "loss completed\n",
            "loss completed\n",
            "loss completed\n",
            "loss completed\n",
            "loss completed\n",
            "test 2\n",
            "loss completed\n",
            "loss completed\n",
            "loss completed\n",
            "loss completed\n",
            "loss completed\n",
            "loss completed\n",
            "loss completed\n",
            "loss completed\n",
            "loss completed\n",
            "loss completed\n",
            "loss completed\n",
            "loss completed\n",
            "loss completed\n",
            "loss completed\n",
            "loss completed\n",
            "loss completed\n",
            "loss completed\n",
            "loss completed\n",
            "loss completed\n"
          ],
          "name": "stdout"
        },
        {
          "output_type": "stream",
          "text": [
            "\r 20%|██        | 4/20 [1:36:39<6:26:36, 1449.79s/it]"
          ],
          "name": "stderr"
        },
        {
          "output_type": "stream",
          "text": [
            "0.3589998375924785\n",
            "test 1\n",
            "loss completed\n",
            "loss completed\n",
            "loss completed\n",
            "loss completed\n",
            "loss completed\n",
            "loss completed\n",
            "loss completed\n",
            "loss completed\n",
            "loss completed\n",
            "loss completed\n",
            "loss completed\n",
            "loss completed\n",
            "loss completed\n",
            "loss completed\n",
            "loss completed\n",
            "loss completed\n",
            "loss completed\n",
            "loss completed\n",
            "test 2\n",
            "loss completed\n",
            "loss completed\n",
            "loss completed\n",
            "loss completed\n",
            "loss completed\n",
            "loss completed\n",
            "loss completed\n",
            "loss completed\n",
            "loss completed\n",
            "loss completed\n",
            "loss completed\n",
            "loss completed\n",
            "loss completed\n",
            "loss completed\n",
            "loss completed\n",
            "loss completed\n",
            "loss completed\n"
          ],
          "name": "stdout"
        },
        {
          "output_type": "stream",
          "text": [
            "\r 25%|██▌       | 5/20 [1:54:35<5:43:46, 1375.09s/it]"
          ],
          "name": "stderr"
        },
        {
          "output_type": "stream",
          "text": [
            "0.3586032347057518\n",
            "test 1\n",
            "loss completed\n",
            "loss completed\n",
            "loss completed\n",
            "loss completed\n",
            "loss completed\n",
            "loss completed\n",
            "loss completed\n",
            "loss completed\n",
            "loss completed\n",
            "loss completed\n",
            "loss completed\n",
            "loss completed\n",
            "loss completed\n",
            "loss completed\n",
            "loss completed\n",
            "loss completed\n",
            "test 2\n",
            "loss completed\n",
            "loss completed\n",
            "loss completed\n",
            "loss completed\n",
            "loss completed\n",
            "loss completed\n",
            "loss completed\n",
            "loss completed\n",
            "loss completed\n",
            "loss completed\n",
            "loss completed\n",
            "loss completed\n",
            "loss completed\n",
            "loss completed\n",
            "loss completed\n"
          ],
          "name": "stdout"
        },
        {
          "output_type": "stream",
          "text": [
            "\r 30%|███       | 6/20 [2:10:39<5:04:51, 1306.56s/it]"
          ],
          "name": "stderr"
        },
        {
          "output_type": "stream",
          "text": [
            "0.3584606801346133\n",
            "test 1\n",
            "loss completed\n",
            "loss completed\n",
            "loss completed\n",
            "loss completed\n",
            "loss completed\n",
            "loss completed\n",
            "loss completed\n",
            "loss completed\n",
            "loss completed\n",
            "loss completed\n",
            "loss completed\n",
            "loss completed\n",
            "loss completed\n",
            "loss completed\n",
            "loss completed\n",
            "loss completed\n",
            "test 2\n",
            "loss completed\n",
            "loss completed\n",
            "loss completed\n",
            "loss completed\n",
            "loss completed\n",
            "loss completed\n",
            "loss completed\n",
            "loss completed\n",
            "loss completed\n",
            "loss completed\n",
            "loss completed\n",
            "loss completed\n",
            "loss completed\n",
            "loss completed\n",
            "loss completed\n"
          ],
          "name": "stdout"
        },
        {
          "output_type": "stream",
          "text": [
            "\r 35%|███▌      | 7/20 [2:24:35<4:28:31, 1239.38s/it]"
          ],
          "name": "stderr"
        },
        {
          "output_type": "stream",
          "text": [
            "0.35839698260360203\n",
            "test 1\n",
            "loss completed\n",
            "loss completed\n",
            "loss completed\n",
            "loss completed\n",
            "loss completed\n",
            "loss completed\n",
            "loss completed\n",
            "loss completed\n",
            "loss completed\n",
            "loss completed\n",
            "loss completed\n",
            "loss completed\n",
            "loss completed\n",
            "loss completed\n",
            "loss completed\n",
            "loss completed\n",
            "test 2\n",
            "loss completed\n",
            "loss completed\n",
            "loss completed\n",
            "loss completed\n",
            "loss completed\n",
            "loss completed\n",
            "loss completed\n",
            "loss completed\n",
            "loss completed\n",
            "loss completed\n",
            "loss completed\n",
            "loss completed\n",
            "loss completed\n",
            "loss completed\n",
            "loss completed\n"
          ],
          "name": "stdout"
        },
        {
          "output_type": "stream",
          "text": [
            "\r 40%|████      | 8/20 [2:39:44<3:59:36, 1198.05s/it]"
          ],
          "name": "stderr"
        },
        {
          "output_type": "stream",
          "text": [
            "0.3583633766028732\n",
            "test 1\n",
            "loss completed\n",
            "loss completed\n",
            "loss completed\n",
            "loss completed\n",
            "loss completed\n",
            "loss completed\n",
            "loss completed\n",
            "loss completed\n",
            "loss completed\n",
            "loss completed\n",
            "loss completed\n",
            "loss completed\n",
            "loss completed\n",
            "loss completed\n",
            "loss completed\n",
            "loss completed\n",
            "test 2\n",
            "loss completed\n",
            "loss completed\n",
            "loss completed\n",
            "loss completed\n",
            "loss completed\n",
            "loss completed\n",
            "loss completed\n",
            "loss completed\n",
            "loss completed\n",
            "loss completed\n",
            "loss completed\n",
            "loss completed\n",
            "loss completed\n",
            "loss completed\n",
            "loss completed\n"
          ],
          "name": "stdout"
        },
        {
          "output_type": "stream",
          "text": [
            "\r 45%|████▌     | 9/20 [2:55:45<3:34:48, 1171.67s/it]"
          ],
          "name": "stderr"
        },
        {
          "output_type": "stream",
          "text": [
            "0.3583437015804519\n",
            "test 1\n",
            "loss completed\n",
            "loss completed\n",
            "loss completed\n",
            "loss completed\n",
            "loss completed\n",
            "loss completed\n",
            "loss completed\n",
            "loss completed\n",
            "loss completed\n",
            "loss completed\n",
            "loss completed\n",
            "loss completed\n",
            "loss completed\n",
            "loss completed\n",
            "loss completed\n",
            "loss completed\n",
            "test 2\n",
            "loss completed\n",
            "loss completed\n",
            "loss completed\n",
            "loss completed\n",
            "loss completed\n",
            "loss completed\n",
            "loss completed\n",
            "loss completed\n",
            "loss completed\n",
            "loss completed\n",
            "loss completed\n"
          ],
          "name": "stdout"
        },
        {
          "output_type": "stream",
          "text": [
            "\r 50%|█████     | 10/20 [3:09:24<3:09:24, 1136.43s/it]"
          ],
          "name": "stderr"
        },
        {
          "output_type": "stream",
          "text": [
            "0.35833142536503015\n",
            "test 1\n",
            "loss completed\n",
            "loss completed\n",
            "loss completed\n",
            "loss completed\n",
            "loss completed\n",
            "loss completed\n",
            "loss completed\n",
            "loss completed\n",
            "loss completed\n",
            "loss completed\n",
            "loss completed\n",
            "loss completed\n",
            "loss completed\n",
            "loss completed\n",
            "loss completed\n",
            "loss completed\n",
            "test 2\n",
            "loss completed\n",
            "loss completed\n",
            "loss completed\n",
            "loss completed\n",
            "loss completed\n",
            "loss completed\n",
            "loss completed\n",
            "loss completed\n",
            "loss completed\n",
            "loss completed\n",
            "loss completed\n"
          ],
          "name": "stdout"
        },
        {
          "output_type": "stream",
          "text": [
            "\r 55%|█████▌    | 11/20 [3:22:29<2:45:40, 1104.50s/it]"
          ],
          "name": "stderr"
        },
        {
          "output_type": "stream",
          "text": [
            "0.35832318100539157\n",
            "test 1\n",
            "loss completed\n",
            "loss completed\n",
            "loss completed\n",
            "loss completed\n",
            "loss completed\n",
            "loss completed\n",
            "loss completed\n",
            "loss completed\n",
            "loss completed\n",
            "loss completed\n",
            "loss completed\n",
            "loss completed\n",
            "loss completed\n",
            "loss completed\n",
            "test 2\n",
            "loss completed\n",
            "loss completed\n",
            "loss completed\n",
            "loss completed\n",
            "loss completed\n",
            "loss completed\n",
            "loss completed\n",
            "loss completed\n",
            "loss completed\n",
            "loss completed\n",
            "loss completed\n"
          ],
          "name": "stdout"
        },
        {
          "output_type": "stream",
          "text": [
            "\r 60%|██████    | 12/20 [3:58:01<2:38:40, 1190.10s/it]"
          ],
          "name": "stderr"
        },
        {
          "output_type": "stream",
          "text": [
            "0.3583176731031177\n",
            "test 1\n",
            "loss completed\n",
            "loss completed\n",
            "loss completed\n",
            "loss completed\n",
            "loss completed\n",
            "loss completed\n",
            "loss completed\n",
            "loss completed\n",
            "loss completed\n",
            "loss completed\n",
            "loss completed\n",
            "loss completed\n",
            "test 2\n",
            "loss completed\n",
            "loss completed\n",
            "loss completed\n",
            "loss completed\n",
            "loss completed\n",
            "loss completed\n",
            "loss completed\n",
            "loss completed\n",
            "loss completed\n",
            "loss completed\n",
            "loss completed\n"
          ],
          "name": "stdout"
        },
        {
          "output_type": "stream",
          "text": [
            "\r 65%|██████▌   | 13/20 [4:18:03<2:18:57, 1191.04s/it]"
          ],
          "name": "stderr"
        },
        {
          "output_type": "stream",
          "text": [
            "0.3583139650712109\n",
            "test 1\n",
            "loss completed\n",
            "loss completed\n",
            "loss completed\n",
            "loss completed\n",
            "loss completed\n",
            "loss completed\n",
            "loss completed\n",
            "loss completed\n",
            "loss completed\n",
            "loss completed\n",
            "loss completed\n",
            "loss completed\n",
            "test 2\n",
            "loss completed\n",
            "loss completed\n",
            "loss completed\n",
            "loss completed\n",
            "loss completed\n",
            "loss completed\n",
            "loss completed\n",
            "loss completed\n",
            "loss completed\n",
            "loss completed\n",
            "loss completed\n"
          ],
          "name": "stdout"
        },
        {
          "output_type": "stream",
          "text": [
            "\r 70%|███████   | 14/20 [4:32:23<1:56:44, 1167.38s/it]"
          ],
          "name": "stderr"
        },
        {
          "output_type": "stream",
          "text": [
            "0.35831132721303205\n",
            "test 1\n",
            "loss completed\n",
            "loss completed\n",
            "loss completed\n",
            "loss completed\n",
            "loss completed\n",
            "loss completed\n",
            "loss completed\n",
            "loss completed\n",
            "loss completed\n",
            "loss completed\n",
            "loss completed\n",
            "loss completed\n",
            "test 2\n",
            "loss completed\n",
            "loss completed\n",
            "loss completed\n",
            "loss completed\n",
            "loss completed\n",
            "loss completed\n",
            "loss completed\n",
            "loss completed\n",
            "loss completed\n",
            "loss completed\n",
            "loss completed\n"
          ],
          "name": "stdout"
        },
        {
          "output_type": "stream",
          "text": [
            "\r 75%|███████▌  | 15/20 [4:47:59<1:35:59, 1151.97s/it]"
          ],
          "name": "stderr"
        },
        {
          "output_type": "stream",
          "text": [
            "0.35830939301018094\n",
            "test 1\n",
            "loss completed\n",
            "loss completed\n",
            "loss completed\n",
            "loss completed\n",
            "loss completed\n",
            "loss completed\n",
            "loss completed\n",
            "loss completed\n",
            "loss completed\n",
            "loss completed\n",
            "loss completed\n",
            "loss completed\n",
            "test 2\n",
            "loss completed\n",
            "loss completed\n",
            "loss completed\n",
            "loss completed\n",
            "loss completed\n",
            "loss completed\n",
            "loss completed\n",
            "loss completed\n",
            "loss completed\n",
            "loss completed\n",
            "loss completed\n"
          ],
          "name": "stdout"
        },
        {
          "output_type": "stream",
          "text": [
            "\r 80%|████████  | 16/20 [5:03:30<1:15:52, 1138.15s/it]"
          ],
          "name": "stderr"
        },
        {
          "output_type": "stream",
          "text": [
            "0.35830800178255084\n",
            "test 1\n",
            "loss completed\n",
            "loss completed\n",
            "loss completed\n",
            "loss completed\n",
            "loss completed\n",
            "loss completed\n",
            "loss completed\n",
            "loss completed\n",
            "loss completed\n",
            "loss completed\n",
            "loss completed\n",
            "loss completed\n",
            "test 2\n",
            "loss completed\n",
            "loss completed\n",
            "loss completed\n",
            "loss completed\n",
            "loss completed\n",
            "loss completed\n",
            "loss completed\n"
          ],
          "name": "stdout"
        },
        {
          "output_type": "stream",
          "text": [
            "\r 85%|████████▌ | 17/20 [5:16:02<55:46, 1115.46s/it]  "
          ],
          "name": "stderr"
        },
        {
          "output_type": "stream",
          "text": [
            "0.35830698209735257\n",
            "test 1\n",
            "loss completed\n",
            "loss completed\n",
            "loss completed\n",
            "loss completed\n",
            "loss completed\n",
            "loss completed\n",
            "loss completed\n",
            "loss completed\n",
            "loss completed\n",
            "loss completed\n",
            "loss completed\n",
            "loss completed\n",
            "test 2\n",
            "loss completed\n",
            "loss completed\n",
            "loss completed\n",
            "loss completed\n",
            "loss completed\n",
            "loss completed\n",
            "loss completed\n"
          ],
          "name": "stdout"
        },
        {
          "output_type": "stream",
          "text": [
            "\r 90%|█████████ | 18/20 [5:29:29<36:36, 1098.32s/it]"
          ],
          "name": "stderr"
        },
        {
          "output_type": "stream",
          "text": [
            "0.35830624094436636\n",
            "test 1\n",
            "loss completed\n",
            "loss completed\n",
            "loss completed\n",
            "loss completed\n",
            "loss completed\n",
            "loss completed\n",
            "loss completed\n",
            "loss completed\n",
            "loss completed\n",
            "loss completed\n",
            "loss completed\n",
            "loss completed\n",
            "test 2\n",
            "loss completed\n",
            "loss completed\n",
            "loss completed\n",
            "loss completed\n",
            "loss completed\n",
            "loss completed\n",
            "loss completed\n"
          ],
          "name": "stdout"
        },
        {
          "output_type": "stream",
          "text": [
            "\r 95%|█████████▌| 19/20 [5:42:14<18:00, 1080.77s/it]"
          ],
          "name": "stderr"
        },
        {
          "output_type": "stream",
          "text": [
            "0.3583056315065476\n",
            "test 1\n",
            "loss completed\n",
            "loss completed\n",
            "loss completed\n",
            "loss completed\n",
            "loss completed\n",
            "loss completed\n",
            "loss completed\n",
            "loss completed\n",
            "loss completed\n",
            "loss completed\n",
            "test 2\n",
            "loss completed\n",
            "loss completed\n",
            "loss completed\n",
            "loss completed\n",
            "loss completed\n",
            "loss completed\n",
            "loss completed\n"
          ],
          "name": "stdout"
        },
        {
          "output_type": "stream",
          "text": [
            "\r100%|██████████| 20/20 [5:54:25<00:00, 1063.27s/it]"
          ],
          "name": "stderr"
        },
        {
          "output_type": "stream",
          "text": [
            "0.358305227800013\n"
          ],
          "name": "stdout"
        },
        {
          "output_type": "stream",
          "text": [
            "\n"
          ],
          "name": "stderr"
        }
      ]
    },
    {
      "cell_type": "code",
      "metadata": {
        "id": "cDkN4VndNEWu",
        "colab_type": "code",
        "outputId": "22c98943-9131-4963-8e9f-c2db443b1b85",
        "colab": {}
      },
      "source": [
        "plt.plot(loss_history, \"-\")\n",
        "plt.yscale(\"log\")"
      ],
      "execution_count": 0,
      "outputs": [
        {
          "output_type": "display_data",
          "data": {
            "image/png": "[encoded data removed]",
            "text/plain": [
              "<matplotlib.figure.Figure at 0x13b182978>"
            ]
          },
          "metadata": {
            "tags": []
          }
        }
      ]
    },
    {
      "cell_type": "code",
      "metadata": {
        "id": "UfmbGKh8NEWx",
        "colab_type": "code",
        "outputId": "4d5b21ac-6532-4b1b-c9a1-66ed23892a2d",
        "colab": {}
      },
      "source": [
        "trained_rating = U @ F\n",
        "\n",
        "trained_predictions = np.zeros(len(data_test))\n",
        "for i in range(len(data_test)):\n",
        "  trained_predictions[i] = trained_rating[data_test[i,0]][data_test[i][1]]\n",
        "RMSE_predictions(data_test[:,2], trained_predictions)"
      ],
      "execution_count": 0,
      "outputs": [
        {
          "output_type": "execute_result",
          "data": {
            "text/plain": [
              "2.682975293779775"
            ]
          },
          "metadata": {
            "tags": []
          },
          "execution_count": 27
        }
      ]
    },
    {
      "cell_type": "code",
      "metadata": {
        "id": "ZL-cMkyRNEWz",
        "colab_type": "code",
        "colab": {}
      },
      "source": [
        "loss_history_1 = loss_history #  to store the old loss history"
      ],
      "execution_count": 0,
      "outputs": []
    },
    {
      "cell_type": "code",
      "metadata": {
        "id": "uFURUs32NEW1",
        "colab_type": "code",
        "colab": {}
      },
      "source": [
        "U_1, F_1 = U, F  # to store the old U and F"
      ],
      "execution_count": 0,
      "outputs": []
    },
    {
      "cell_type": "code",
      "metadata": {
        "id": "DunbjAl6NEW4",
        "colab_type": "code",
        "colab": {}
      },
      "source": [
        ""
      ],
      "execution_count": 0,
      "outputs": []
    },
    {
      "cell_type": "markdown",
      "metadata": {
        "id": "QKWqmVrcNEW7",
        "colab_type": "text"
      },
      "source": [
        "Use BFGS to approximate the residuals:"
      ]
    },
    {
      "cell_type": "code",
      "metadata": {
        "id": "3jueKIitNEW8",
        "colab_type": "code",
        "outputId": "59f68619-dca3-4597-fe96-9d56f0f0c8e8",
        "colab": {}
      },
      "source": [
        "n_users = len(np.unique(data_train[:,0]))\n",
        "n_films = len(np.unique(data_train[:,1]))\n",
        "n_ratings = len(data_train)\n",
        "print(n_users)\n",
        "\n",
        "# define the naive model which is the user mean model\n",
        "user_agg = np.zeros(n_users)\n",
        "user_num = np.zeros(n_users)\n",
        "user_mean = np.zeros(n_users)\n",
        "for k in range(n_ratings):\n",
        "    user = data_train[k,0]\n",
        "    film = data_train[k,1]\n",
        "    rating = data_train[k,2]\n",
        "    user_agg[user] +=rating\n",
        "    user_num[user] +=1\n",
        "for i in range(n_users):\n",
        "  user_mean[i] = user_agg[i]/user_num[i]\n"
      ],
      "execution_count": 0,
      "outputs": [
        {
          "output_type": "stream",
          "text": [
            "70775\n"
          ],
          "name": "stdout"
        }
      ]
    },
    {
      "cell_type": "code",
      "metadata": {
        "id": "sPvTElYnNEXC",
        "colab_type": "code",
        "colab": {}
      },
      "source": [
        "# get the residual\n",
        "residual = np.zeros((n_users, n_films))\n",
        "for k in range(n_ratings):\n",
        "    user = data_train[k,0]\n",
        "    film = data_train[k,1]\n",
        "    rating = data_train[k,2]\n",
        "    residual[user][film] = rating - user_mean[user]"
      ],
      "execution_count": 0,
      "outputs": []
    },
    {
      "cell_type": "code",
      "metadata": {
        "id": "TYRTurbMNEXE",
        "colab_type": "code",
        "colab": {}
      },
      "source": [
        "def L(U,F):\n",
        "    print(\"loss completed\")\n",
        "    return np.mean( (residual - U @ F)**2 )"
      ],
      "execution_count": 0,
      "outputs": []
    },
    {
      "cell_type": "code",
      "metadata": {
        "id": "WjVoLSykNEXH",
        "colab_type": "code",
        "outputId": "5ec81381-8d57-49ec-b130-9ec54b60b323",
        "colab": {}
      },
      "source": [
        "residual.shape"
      ],
      "execution_count": 0,
      "outputs": [
        {
          "output_type": "execute_result",
          "data": {
            "text/plain": [
              "(70775, 3314)"
            ]
          },
          "metadata": {
            "tags": []
          },
          "execution_count": 67
        }
      ]
    },
    {
      "cell_type": "code",
      "metadata": {
        "id": "49muVtahNEXK",
        "colab_type": "code",
        "colab": {}
      },
      "source": [
        "import scipy.optimize as scipy_optimize\n",
        "#random initial guess \n",
        "\n",
        "p,q = n_users, n_films\n",
        "r = 10  # rank of the approximation\n",
        "U_init = np.random.normal(0,1,size=(p,r))\n",
        "F_init = np.random.normal(0,1,size=(r,q))"
      ],
      "execution_count": 0,
      "outputs": []
    },
    {
      "cell_type": "code",
      "metadata": {
        "id": "PA5dqo-yNEXL",
        "colab_type": "code",
        "outputId": "9bd82402-02c7-4039-c746-e8c139d2595a",
        "colab": {}
      },
      "source": [
        "n_iter = 8  # Since in the last BFGS algorithm, the loss converges around 5 iterations. We choose 8 iterations this time as the algorithm costs a very long time\n",
        "n_ter_BFGS = 10\n",
        "\n",
        "U = np.copy(U_init)\n",
        "F = np.copy(F_init)\n",
        "\n",
        "loss_history_1 = np.zeros(n_iter)\n",
        "\n",
        "for k in tqdm(range(n_iter)):\n",
        "    #update U with BFGS\n",
        "    def L_F_fixed(U_flattenned):\n",
        "        U = U_flattenned.reshape(p,r)\n",
        "        return L(U,F)\n",
        "    gradient_L_F_fixed = grad(L_F_fixed)\n",
        "    \n",
        "    print(\"test 1\") # to check the training process\n",
        "    \n",
        "    output_BFGS = scipy_optimize.minimize(L_F_fixed,\n",
        "                                          U.flatten(), #initial guess\n",
        "                                          method='L-BFGS-B', \n",
        "                                          jac=gradient_L_F_fixed,\n",
        "                                          tol = 10**-8,\n",
        "                                          options={\"maxiter\":n_ter_BFGS})\n",
        "    U = output_BFGS[\"x\"].reshape(p,r)  #set U to the output of BFGS\n",
        "    \n",
        "    print(\"test 2\")  # to check the training process\n",
        "    \n",
        "    #update F with BFGS\n",
        "    def L_U_fixed(F_flattenned):\n",
        "        F = F_flattenned.reshape(r,q)\n",
        "        return L(U,F)\n",
        "    gradient_L_U_fixed = grad(L_U_fixed)\n",
        "    output_BFGS = scipy_optimize.minimize(L_U_fixed,\n",
        "                                          F.flatten(), #initial guess\n",
        "                                          method='L-BFGS-B', \n",
        "                                          jac=gradient_L_U_fixed,\n",
        "                                          tol = 10**-8,\n",
        "                                          options={\"maxiter\":n_ter_BFGS})\n",
        "    F = output_BFGS[\"x\"].reshape(r,q)  #set U to the output of BFGS\n",
        "    \n",
        "    #keep track of loss\n",
        "    loss_history[k] = loss(U,F)\n",
        "    print(loss_history[k])"
      ],
      "execution_count": 0,
      "outputs": [
        {
          "output_type": "stream",
          "text": [
            "\r  0%|          | 0/8 [00:00<?, ?it/s]"
          ],
          "name": "stderr"
        },
        {
          "output_type": "stream",
          "text": [
            "test 1\n",
            "loss completed\n",
            "loss completed\n",
            "loss completed\n",
            "loss completed\n",
            "loss completed\n",
            "loss completed\n",
            "loss completed\n",
            "loss completed\n",
            "loss completed\n",
            "loss completed\n",
            "loss completed\n",
            "loss completed\n",
            "loss completed\n",
            "loss completed\n",
            "loss completed\n",
            "loss completed\n",
            "test 2\n",
            "loss completed\n",
            "loss completed\n",
            "loss completed\n",
            "loss completed\n",
            "loss completed\n",
            "loss completed\n",
            "loss completed\n",
            "loss completed\n",
            "loss completed\n",
            "loss completed\n",
            "loss completed\n",
            "loss completed\n",
            "loss completed\n",
            "loss completed\n",
            "loss completed\n"
          ],
          "name": "stdout"
        },
        {
          "output_type": "stream",
          "text": [
            "\r 12%|█▎        | 1/8 [20:21<2:22:29, 1221.41s/it]"
          ],
          "name": "stderr"
        },
        {
          "output_type": "stream",
          "text": [
            "0.5307007128429987\n",
            "test 1\n",
            "loss completed\n",
            "loss completed\n",
            "loss completed\n",
            "loss completed\n",
            "loss completed\n",
            "loss completed\n",
            "loss completed\n",
            "loss completed\n",
            "loss completed\n",
            "loss completed\n",
            "loss completed\n",
            "loss completed\n",
            "loss completed\n",
            "loss completed\n",
            "loss completed\n",
            "loss completed\n",
            "test 2\n",
            "loss completed\n",
            "loss completed\n",
            "loss completed\n",
            "loss completed\n",
            "loss completed\n",
            "loss completed\n",
            "loss completed\n",
            "loss completed\n",
            "loss completed\n",
            "loss completed\n",
            "loss completed\n",
            "loss completed\n",
            "loss completed\n",
            "loss completed\n",
            "loss completed\n",
            "loss completed\n",
            "loss completed\n"
          ],
          "name": "stdout"
        },
        {
          "output_type": "stream",
          "text": [
            "\r 25%|██▌       | 2/8 [45:06<2:15:19, 1353.23s/it]"
          ],
          "name": "stderr"
        },
        {
          "output_type": "stream",
          "text": [
            "0.5216463496993796\n",
            "test 1\n",
            "loss completed\n",
            "loss completed\n",
            "loss completed\n",
            "loss completed\n",
            "loss completed\n",
            "loss completed\n",
            "loss completed\n",
            "loss completed\n",
            "loss completed\n",
            "loss completed\n",
            "loss completed\n",
            "loss completed\n",
            "loss completed\n",
            "loss completed\n",
            "loss completed\n",
            "loss completed\n",
            "test 2\n",
            "loss completed\n",
            "loss completed\n",
            "loss completed\n",
            "loss completed\n",
            "loss completed\n",
            "loss completed\n",
            "loss completed\n",
            "loss completed\n",
            "loss completed\n",
            "loss completed\n",
            "loss completed\n",
            "loss completed\n",
            "loss completed\n",
            "loss completed\n",
            "loss completed\n"
          ],
          "name": "stdout"
        },
        {
          "output_type": "stream",
          "text": [
            "\r 38%|███▊      | 3/8 [1:09:00<1:55:00, 1380.13s/it]"
          ],
          "name": "stderr"
        },
        {
          "output_type": "stream",
          "text": [
            "0.5198958863846271\n",
            "test 1\n",
            "loss completed\n",
            "loss completed\n",
            "loss completed\n",
            "loss completed\n",
            "loss completed\n",
            "loss completed\n",
            "loss completed\n",
            "loss completed\n",
            "loss completed\n",
            "loss completed\n",
            "loss completed\n",
            "loss completed\n",
            "loss completed\n",
            "loss completed\n",
            "test 2\n",
            "loss completed\n",
            "loss completed\n",
            "loss completed\n",
            "loss completed\n",
            "loss completed\n",
            "loss completed\n",
            "loss completed\n",
            "loss completed\n",
            "loss completed\n",
            "loss completed\n",
            "loss completed\n",
            "loss completed\n",
            "loss completed\n",
            "loss completed\n",
            "loss completed\n"
          ],
          "name": "stdout"
        },
        {
          "output_type": "stream",
          "text": [
            "\r 50%|█████     | 4/8 [1:31:43<1:31:43, 1375.97s/it]"
          ],
          "name": "stderr"
        },
        {
          "output_type": "stream",
          "text": [
            "0.519436664313221\n",
            "test 1\n",
            "loss completed\n",
            "loss completed\n",
            "loss completed\n",
            "loss completed\n",
            "loss completed\n",
            "loss completed\n",
            "loss completed\n",
            "loss completed\n",
            "loss completed\n",
            "loss completed\n",
            "loss completed\n",
            "loss completed\n",
            "loss completed\n",
            "loss completed\n",
            "test 2\n",
            "loss completed\n",
            "loss completed\n",
            "loss completed\n",
            "loss completed\n",
            "loss completed\n",
            "loss completed\n",
            "loss completed\n",
            "loss completed\n",
            "loss completed\n",
            "loss completed\n",
            "loss completed\n"
          ],
          "name": "stdout"
        },
        {
          "output_type": "stream",
          "text": [
            "\r 62%|██████▎   | 5/8 [1:53:09<1:07:53, 1357.98s/it]"
          ],
          "name": "stderr"
        },
        {
          "output_type": "stream",
          "text": [
            "0.5192388742779548\n",
            "test 1\n",
            "loss completed\n",
            "loss completed\n",
            "loss completed\n",
            "loss completed\n",
            "loss completed\n",
            "loss completed\n",
            "loss completed\n",
            "loss completed\n",
            "loss completed\n",
            "loss completed\n",
            "loss completed\n",
            "loss completed\n",
            "loss completed\n",
            "loss completed\n",
            "loss completed\n",
            "loss completed\n",
            "test 2\n",
            "loss completed\n",
            "loss completed\n",
            "loss completed\n",
            "loss completed\n",
            "loss completed\n",
            "loss completed\n",
            "loss completed\n",
            "loss completed\n",
            "loss completed\n",
            "loss completed\n",
            "loss completed\n",
            "loss completed\n",
            "loss completed\n"
          ],
          "name": "stdout"
        },
        {
          "output_type": "stream",
          "text": [
            "\r 75%|███████▌  | 6/8 [2:16:12<45:24, 1362.16s/it]  "
          ],
          "name": "stderr"
        },
        {
          "output_type": "stream",
          "text": [
            "0.5191400149428406\n",
            "test 1\n",
            "loss completed\n",
            "loss completed\n",
            "loss completed\n",
            "loss completed\n",
            "loss completed\n",
            "loss completed\n",
            "loss completed\n",
            "loss completed\n",
            "loss completed\n",
            "loss completed\n",
            "loss completed\n",
            "loss completed\n",
            "loss completed\n",
            "loss completed\n",
            "test 2\n",
            "loss completed\n",
            "loss completed\n",
            "loss completed\n",
            "loss completed\n",
            "loss completed\n",
            "loss completed\n",
            "loss completed\n",
            "loss completed\n",
            "loss completed\n"
          ],
          "name": "stdout"
        },
        {
          "output_type": "stream",
          "text": [
            "\r 88%|████████▊ | 7/8 [2:36:25<22:20, 1340.72s/it]"
          ],
          "name": "stderr"
        },
        {
          "output_type": "stream",
          "text": [
            "0.5190893642994602\n",
            "test 1\n",
            "loss completed\n",
            "loss completed\n",
            "loss completed\n",
            "loss completed\n",
            "loss completed\n",
            "loss completed\n",
            "loss completed\n",
            "loss completed\n",
            "loss completed\n",
            "loss completed\n",
            "loss completed\n",
            "loss completed\n",
            "loss completed\n",
            "loss completed\n",
            "test 2\n",
            "loss completed\n",
            "loss completed\n",
            "loss completed\n",
            "loss completed\n",
            "loss completed\n",
            "loss completed\n",
            "loss completed\n",
            "loss completed\n",
            "loss completed\n"
          ],
          "name": "stdout"
        },
        {
          "output_type": "stream",
          "text": [
            "\r100%|██████████| 8/8 [2:55:47<00:00, 1318.43s/it]"
          ],
          "name": "stderr"
        },
        {
          "output_type": "stream",
          "text": [
            "0.5190655993821583\n"
          ],
          "name": "stdout"
        },
        {
          "output_type": "stream",
          "text": [
            "\n"
          ],
          "name": "stderr"
        }
      ]
    },
    {
      "cell_type": "code",
      "metadata": {
        "id": "ip_3ZbmzNEXN",
        "colab_type": "code",
        "outputId": "ece4add7-10e7-4dbc-a74d-fe7197674b2d",
        "colab": {}
      },
      "source": [
        "plt.plot(loss_history, \"-\")\n",
        "plt.yscale(\"log\")\n"
      ],
      "execution_count": 0,
      "outputs": [
        {
          "output_type": "display_data",
          "data": {
            "image/png": "[encoded data removed]",
            "text/plain": [
              "<matplotlib.figure.Figure at 0x180365fdd8>"
            ]
          },
          "metadata": {
            "tags": []
          }
        }
      ]
    },
    {
      "cell_type": "code",
      "metadata": {
        "id": "K9IWePu5NEXP",
        "colab_type": "code",
        "outputId": "666f257c-3f75-4ad3-ba6b-e9d2a432b1a7",
        "colab": {}
      },
      "source": [
        "trained_residual = U @ F\n",
        "\n",
        "trained_predictions = np.zeros(len(data_test))\n",
        "for i in range(len(data_test)):\n",
        "  trained_predictions[i] = trained_residual[data_test[i,0]][data_test[i][1]] + user_mean[data_test[i,0]]\n",
        "RMSE_predictions(data_test[:,2], trained_predictions)"
      ],
      "execution_count": 0,
      "outputs": [
        {
          "output_type": "execute_result",
          "data": {
            "text/plain": [
              "0.9336482509685596"
            ]
          },
          "metadata": {
            "tags": []
          },
          "execution_count": 78
        }
      ]
    },
    {
      "cell_type": "markdown",
      "metadata": {
        "id": "WuqWUzFDNEXT",
        "colab_type": "text"
      },
      "source": [
        "<h1><center>Exercise 2: image reconstruction</center></h1>"
      ]
    },
    {
      "cell_type": "markdown",
      "metadata": {
        "id": "YJNEfuouNEXT",
        "colab_type": "text"
      },
      "source": [
        "This exercise consists in reconstructing an image from a noisy versoin of it. \n",
        "1. The original image, \"NUS.png\", can be thought of as a matrix $M$.\n",
        "2. One only observes a noissy version of it, $N$, defined as\n",
        "$$\n",
        "N_{i,j} = \\mathbf{Poisson}(M_{i,j}).\n",
        "$$\n",
        "3. Your task is to reconstruct a good approximation of the original image based only on the noisy version $N$ of it."
      ]
    },
    {
      "cell_type": "code",
      "metadata": {
        "id": "U7rh3gykNEXU",
        "colab_type": "code",
        "colab": {}
      },
      "source": [
        "#load the data\n",
        "path = \"/Users/apple/Downloads\"\n",
        "file = \"NUS.png\"\n",
        "\n",
        "def read_image(path, file):\n",
        "    \"\"\"\n",
        "    read an image, convert it to grayscale, normalize intensity pixels to (0,1)\n",
        "    \"\"\"\n",
        "    img = np.array(Image.open(os.path.join(path, file)))\n",
        "    return np.mean(img, axis=2) / 255."
      ],
      "execution_count": 0,
      "outputs": []
    },
    {
      "cell_type": "code",
      "metadata": {
        "id": "0G45cF2TNEXW",
        "colab_type": "code",
        "colab": {}
      },
      "source": [
        ""
      ],
      "execution_count": 0,
      "outputs": []
    },
    {
      "cell_type": "code",
      "metadata": {
        "id": "0qHdpQ9pNEXY",
        "colab_type": "code",
        "outputId": "de2bba5f-511e-40a5-af6f-093c94a286ea",
        "colab": {}
      },
      "source": [
        "#read the image\n",
        "M = read_image(path, file)\n",
        "print(\"Dimension of the Image:\", M.shape)\n",
        " "
      ],
      "execution_count": 0,
      "outputs": [
        {
          "output_type": "stream",
          "text": [
            "Dimension of the Image: (182, 300)\n"
          ],
          "name": "stdout"
        }
      ]
    },
    {
      "cell_type": "code",
      "metadata": {
        "id": "MAOJg87-NEXa",
        "colab_type": "code",
        "colab": {}
      },
      "source": [
        ""
      ],
      "execution_count": 0,
      "outputs": []
    },
    {
      "cell_type": "code",
      "metadata": {
        "id": "fVb-jdQcNEXd",
        "colab_type": "code",
        "colab": {}
      },
      "source": [
        "#let us create a noisy version of it\n",
        "N = np.random.poisson(M)"
      ],
      "execution_count": 0,
      "outputs": []
    },
    {
      "cell_type": "code",
      "metadata": {
        "id": "N3lvEj3vNEXg",
        "colab_type": "code",
        "colab": {}
      },
      "source": [
        ""
      ],
      "execution_count": 0,
      "outputs": []
    },
    {
      "cell_type": "code",
      "metadata": {
        "id": "0IE0M2OwNEXi",
        "colab_type": "code",
        "outputId": "549b0227-5ca0-4d08-e58d-7519a2878895",
        "colab": {}
      },
      "source": [
        "plt.rcParams['figure.figsize'] = (10,10)\n",
        "plt.imshow(N, cmap = \"gray\")\n",
        "plt.axis(\"off\")\n",
        "plt.title(\"Noisy Image\")"
      ],
      "execution_count": 0,
      "outputs": [
        {
          "output_type": "execute_result",
          "data": {
            "text/plain": [
              "Text(0.5,1,'Noisy Image')"
            ]
          },
          "metadata": {
            "tags": []
          },
          "execution_count": 82
        },
        {
          "output_type": "display_data",
          "data": {
            "image/png": "[encoded data removed]",
            "text/plain": [
              "<matplotlib.figure.Figure at 0x18067d7358>"
            ]
          },
          "metadata": {
            "tags": []
          }
        }
      ]
    },
    {
      "cell_type": "code",
      "metadata": {
        "id": "WcQ9OLVjNEXl",
        "colab_type": "code",
        "colab": {}
      },
      "source": [
        ""
      ],
      "execution_count": 0,
      "outputs": []
    },
    {
      "cell_type": "code",
      "metadata": {
        "id": "nLUocz4aNEXm",
        "colab_type": "code",
        "outputId": "4bd0e8ec-9a16-420e-cbb1-4cde52691892",
        "colab": {}
      },
      "source": [
        "#expand the matrix into an array\n",
        "noisy = np.asarray(N).reshape(-1)\n",
        "original=np.asarray(M).reshape(-1)\n",
        "original.shape"
      ],
      "execution_count": 0,
      "outputs": [
        {
          "output_type": "execute_result",
          "data": {
            "text/plain": [
              "(54600,)"
            ]
          },
          "metadata": {
            "tags": []
          },
          "execution_count": 83
        }
      ]
    },
    {
      "cell_type": "code",
      "metadata": {
        "id": "66EG-FXgNEXo",
        "colab_type": "code",
        "colab": {}
      },
      "source": [
        ""
      ],
      "execution_count": 0,
      "outputs": []
    },
    {
      "cell_type": "code",
      "metadata": {
        "id": "_IyL9ub-NEXq",
        "colab_type": "code",
        "colab": {}
      },
      "source": [
        "def soft_thresholding(x, eta):\n",
        "    xx = np.copy(x)\n",
        "    xx[np.abs(xx) <= eta] = 0.\n",
        "    xx[xx > eta] = xx[xx > eta] - eta\n",
        "    xx[xx < -eta] = xx[xx < -eta] + eta    \n",
        "    return xx"
      ],
      "execution_count": 0,
      "outputs": []
    },
    {
      "cell_type": "code",
      "metadata": {
        "id": "2KbP3eqcNEXr",
        "colab_type": "code",
        "colab": {}
      },
      "source": [
        ""
      ],
      "execution_count": 0,
      "outputs": []
    },
    {
      "cell_type": "code",
      "metadata": {
        "id": "1uJsq83pNEXt",
        "colab_type": "code",
        "colab": {}
      },
      "source": [
        "def proximal_op(X, threshold):\n",
        "    U,d,V = np.linalg.svd(X)\n",
        "    d = soft_thresholding(d, threshold)\n",
        "    dimx, dimy = X.shape\n",
        "    r = len(d) #min(N,p)\n",
        "    D = np.zeros((dimx, dimy))\n",
        "    D[:r, :r] =  np.diag(d[:r])\n",
        "    return np.dot(U, np.dot(D,V))"
      ],
      "execution_count": 0,
      "outputs": []
    },
    {
      "cell_type": "code",
      "metadata": {
        "id": "6379hVX3NEXu",
        "colab_type": "code",
        "colab": {}
      },
      "source": [
        ""
      ],
      "execution_count": 0,
      "outputs": []
    },
    {
      "cell_type": "code",
      "metadata": {
        "id": "wN1wsPLmNEXv",
        "colab_type": "code",
        "colab": {}
      },
      "source": [
        "def F(X, data):\n",
        "    exp_X=np.exp(X)\n",
        "    return np.mean( exp_X - np.multiply(data,X) )\n",
        "\n",
        "grad_F = grad(F,argnum=0)\n",
        "\n",
        "def loss(X, data, C):\n",
        "    _,d,_ = np.linalg.svd(X)\n",
        "    return F(X, data) + C * np.sum(d)"
      ],
      "execution_count": 0,
      "outputs": []
    },
    {
      "cell_type": "code",
      "metadata": {
        "id": "FIAUqYPiNEXy",
        "colab_type": "code",
        "colab": {}
      },
      "source": [
        ""
      ],
      "execution_count": 0,
      "outputs": []
    },
    {
      "cell_type": "code",
      "metadata": {
        "id": "48YTZi6WNEXz",
        "colab_type": "code",
        "colab": {}
      },
      "source": [
        "dim_x, dim_y = M.shape\n",
        "X = np.random.random((dim_x, dim_y))\n",
        "nb_iteration = 2000\n",
        "learning_rate = 400\n",
        "loss_history = np.zeros(nb_iteration)\n",
        "C = 0.00005\n",
        "\n",
        "for k in range(nb_iteration):\n",
        "    #gradient along F\n",
        "    gradient = grad_F(X, N)\n",
        "    x_plus = X - learning_rate * gradient\n",
        "    \n",
        "\n",
        "    #proximal step along nuclear norm\n",
        "    threshold = C * learning_rate\n",
        "    x_new= proximal_op(x_plus, threshold)\n",
        "    approx_grad = (X - x_new) / learning_rate\n",
        "    while F(x_new,N ) > F(X, N) - learning_rate*np.sum(gradient * approx_grad) \\\n",
        "                            + 0.5*learning_rate*np.linalg.norm(approx_grad)**2:\n",
        "            learning_rate = learning_rate / 2.\n",
        "            x_plus = X - learning_rate * gradient \n",
        "            x_new = proximal_op(x_plus, learning_rate*C)\n",
        "            approx_grad = (X - x_new) / learning_rate\n",
        "    #update x\n",
        "    X = x_new\n",
        "    #keep track of loss\n",
        "    loss_history[k] = loss(X, N, C)"
      ],
      "execution_count": 0,
      "outputs": []
    },
    {
      "cell_type": "code",
      "metadata": {
        "id": "roxLN_eNNEX1",
        "colab_type": "code",
        "colab": {}
      },
      "source": [
        ""
      ],
      "execution_count": 0,
      "outputs": []
    },
    {
      "cell_type": "code",
      "metadata": {
        "id": "Tp2nzu-pNEX4",
        "colab_type": "code",
        "outputId": "a3242adf-4387-46c2-af9f-93e3527de4ae",
        "colab": {}
      },
      "source": [
        "plt.plot(loss_history, \"-\")\n",
        "plt.yscale(\"log\")"
      ],
      "execution_count": 0,
      "outputs": [
        {
          "output_type": "display_data",
          "data": {
            "image/png": "[encoded data removed]",
            "text/plain": [
              "<matplotlib.figure.Figure at 0x13b779cf8>"
            ]
          },
          "metadata": {
            "tags": []
          }
        }
      ]
    },
    {
      "cell_type": "code",
      "metadata": {
        "id": "kqqP79rVNEX6",
        "colab_type": "code",
        "colab": {}
      },
      "source": [
        ""
      ],
      "execution_count": 0,
      "outputs": []
    },
    {
      "cell_type": "code",
      "metadata": {
        "id": "cKnapHgsNEX7",
        "colab_type": "code",
        "outputId": "79fae276-f36b-4b7f-a27a-4d4d8afa13a7",
        "colab": {}
      },
      "source": [
        "plt.imshow(X, cmap = \"gray\")\n",
        "plt.axis(\"off\")\n",
        "plt.title(\"Reconstructed Image\")"
      ],
      "execution_count": 0,
      "outputs": [
        {
          "output_type": "execute_result",
          "data": {
            "text/plain": [
              "Text(0.5,1,'Reconstructed Image')"
            ]
          },
          "metadata": {
            "tags": []
          },
          "execution_count": 89
        },
        {
          "output_type": "display_data",
          "data": {
            "image/png": "[encoded data removed]",
            "text/plain": [
              "<matplotlib.figure.Figure at 0x138118f28>"
            ]
          },
          "metadata": {
            "tags": []
          }
        }
      ]
    },
    {
      "cell_type": "code",
      "metadata": {
        "id": "44uQ8cmNNEX-",
        "colab_type": "code",
        "colab": {}
      },
      "source": [
        ""
      ],
      "execution_count": 0,
      "outputs": []
    },
    {
      "cell_type": "code",
      "metadata": {
        "id": "EX9Xr7jiNEX-",
        "colab_type": "code",
        "colab": {}
      },
      "source": [
        "# ensures smoothnes\n",
        "def G(X):\n",
        "    return np.mean( (X[1:,:]-X[:-1,:])**2 ) + np.mean( (X[:, 1:]-X[:,:-1])**2 )\n",
        "\n",
        "def loss(X, data, C):\n",
        "    return F(X, data) + C*G(X)\n",
        "\n",
        "grad_loss = grad(loss,argnum=0)"
      ],
      "execution_count": 0,
      "outputs": []
    },
    {
      "cell_type": "code",
      "metadata": {
        "id": "iJQG9DK5NEYA",
        "colab_type": "code",
        "colab": {}
      },
      "source": [
        ""
      ],
      "execution_count": 0,
      "outputs": []
    },
    {
      "cell_type": "code",
      "metadata": {
        "id": "hH_vQ0PXNEYB",
        "colab_type": "code",
        "colab": {}
      },
      "source": [
        "X = np.random.random((dim_x, dim_y))\n",
        "nb_iteration = 5000\n",
        "learning_rate = 100\n",
        "loss_history = np.zeros(nb_iteration)\n",
        "C = 0.001\n",
        "\n",
        "for k in range(nb_iteration):\n",
        "    #gradient along F\n",
        "    gradient = grad_loss(X, N, C)\n",
        "    X = X - learning_rate * gradient\n",
        "    \n",
        "    #keep track of loss\n",
        "    loss_history[k] = loss(X, N, C)"
      ],
      "execution_count": 0,
      "outputs": []
    },
    {
      "cell_type": "code",
      "metadata": {
        "id": "ltfNiTa_NEYC",
        "colab_type": "code",
        "colab": {}
      },
      "source": [
        ""
      ],
      "execution_count": 0,
      "outputs": []
    },
    {
      "cell_type": "code",
      "metadata": {
        "id": "y9JXRGZ1NEYD",
        "colab_type": "code",
        "outputId": "e90c912c-8f61-4d3c-cd99-7f4d855a1c1f",
        "colab": {}
      },
      "source": [
        "plt.plot(loss_history, \"-\")\n",
        "plt.yscale(\"log\")"
      ],
      "execution_count": 0,
      "outputs": [
        {
          "output_type": "display_data",
          "data": {
            "image/png": "[encoded data removed]",
            "text/plain": [
              "<matplotlib.figure.Figure at 0x1381337f0>"
            ]
          },
          "metadata": {
            "tags": []
          }
        }
      ]
    },
    {
      "cell_type": "code",
      "metadata": {
        "id": "_3NjHtekNEYF",
        "colab_type": "code",
        "colab": {}
      },
      "source": [
        ""
      ],
      "execution_count": 0,
      "outputs": []
    },
    {
      "cell_type": "code",
      "metadata": {
        "id": "FCV5XQIONEYG",
        "colab_type": "code",
        "outputId": "20681b59-8534-45d8-a59b-1611e86f5fae",
        "colab": {}
      },
      "source": [
        "loss_history"
      ],
      "execution_count": 0,
      "outputs": [
        {
          "output_type": "execute_result",
          "data": {
            "text/plain": [
              "array([1.48097213, 1.47662069, 1.47230071, ..., 0.34072933, 0.34071738,\n",
              "       0.34070542])"
            ]
          },
          "metadata": {
            "tags": []
          },
          "execution_count": 93
        }
      ]
    },
    {
      "cell_type": "code",
      "metadata": {
        "id": "8Jd8s_b5NEYL",
        "colab_type": "code",
        "colab": {}
      },
      "source": [
        ""
      ],
      "execution_count": 0,
      "outputs": []
    },
    {
      "cell_type": "code",
      "metadata": {
        "id": "pD3Bm7jpNEYN",
        "colab_type": "code",
        "outputId": "da9c75b9-75d8-4f7e-c31b-cee27cafc07d",
        "colab": {}
      },
      "source": [
        "plt.imshow(X, cmap = \"gray\")\n",
        "plt.axis(\"off\")\n",
        "plt.title(\"Reconstructed Image\")"
      ],
      "execution_count": 0,
      "outputs": [
        {
          "output_type": "execute_result",
          "data": {
            "text/plain": [
              "Text(0.5,1,'Reconstructed Image')"
            ]
          },
          "metadata": {
            "tags": []
          },
          "execution_count": 94
        },
        {
          "output_type": "display_data",
          "data": {
            "image/png": "[encoded data removed]",
            "text/plain": [
              "<matplotlib.figure.Figure at 0x128802748>"
            ]
          },
          "metadata": {
            "tags": []
          }
        }
      ]
    },
    {
      "cell_type": "code",
      "metadata": {
        "id": "pQRyZ_HqNEYO",
        "colab_type": "code",
        "colab": {}
      },
      "source": [
        ""
      ],
      "execution_count": 0,
      "outputs": []
    }
  ]
}